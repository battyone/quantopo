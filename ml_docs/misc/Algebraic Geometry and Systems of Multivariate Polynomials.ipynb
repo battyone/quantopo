{
 "cells": [
  {
   "cell_type": "markdown",
   "metadata": {},
   "source": [
    "# Algebraic Geometry and Systems of Multivariate Polynomials"
   ]
  },
  {
   "cell_type": "markdown",
   "metadata": {},
   "source": [
    "Many systems of polynomials are hard to solve. However, in essence, the set of solutions for these systems depend just on their generated ideals, which is essentially the set of all possible linear combinations given the generated set. In essence, an ideal is a general subset of a ring, in which a ring is a fundamental algebraic structure in abstract algebra. A ring is composed of two binary operations that generalize addition and multiplication. \n",
    "\n",
    "Nonetheless, as a consequence, replacing the generating set of an ideal by a different generating set of the same ideal won't change the solution of the system and the new generating set may make the computation of the systems solutions easier to compute. This brings us to one of the central fields of mathematics: Algebraic Geometry. In classical algebraic geometry, the central theme of study is systems of multivariate polynomial functions; essentially, the study of zeros, defined as algebraic varieties, for simultaneous multivariate polynomials. "
   ]
  },
  {
   "cell_type": "markdown",
   "metadata": {},
   "source": [
    "To date, a body of work in numerical algebraic geometry has sprung forth with various techniques for numerically examining and manipulating algebraic varieties; hence, techniques are brought forth for solving systems of polynomials. One approach is seen as a multivariate, non-linear generalization of Euclid's algorithm for computation of polynomial's greatest common divisors and Gaussian elimination for linear systems. This computational approach, defined as Buchberger's algorithm, uses Grobner basis (briefly defined below) for solving systems of polynomial equations.\n",
    "\n",
    "Grobner basis is defined as a generating set of an ideal in a polynomial ring K[x1, ... , xn] over a coefficient field K. The Groebner basis may be seen as a triangulation of an ideal. Below details some of its features."
   ]
  },
  {
   "cell_type": "markdown",
   "metadata": {},
   "source": [
    "Let F be a system of multivariate polynomials \n",
    "\n",
    "$$\\{f \\in K[x1, x2, ... , xn]\\},$$ where K is a coeffient field. \n",
    "\n",
    "There exists a system of multivariate polynomials G such that:\n",
    "\n",
    "1. F transforms into G (a finite set)\n",
    "2. F and G have the same sets of solutions \n",
    "3. G has properties that aren't observed in F\n",
    "4. G is defined as the Grobner basis\n",
    "\n",
    "Computations related to Grobner basis require a choice on the total ordering of monomials in the polynomials. This is beyond the scope of this material, but I encourage readers to look into materials of monomial ordering for Grobner basis. Note, the three monomial orderings that are important for the application of Grobner basis are (1) lexicographical ordering, (2) total degree reverse lexicographical ordering, and (3) elimination ordering.\n",
    "\n",
    "An investigation of the theory of Grobner's basis has two things that are appealing about them:\n",
    "\n",
    "1. Difficult problems defined by F, can be rather easy to solve if mapped to a system G\n",
    "2. An algorithm exists to transform F to G\n",
    "\n",
    "In the Python package, SymPy, a polynomials manipulation module, computes Grobner bases for practical problems. Lets work through an example through solving a polynomial system."
   ]
  },
  {
   "cell_type": "markdown",
   "metadata": {},
   "source": [
    "### Example"
   ]
  },
  {
   "cell_type": "markdown",
   "metadata": {},
   "source": [
    "Import SymPy, which contains the groebner function:"
   ]
  },
  {
   "cell_type": "code",
   "execution_count": 1,
   "metadata": {},
   "outputs": [],
   "source": [
    "from sympy import *"
   ]
  },
  {
   "cell_type": "markdown",
   "metadata": {},
   "source": [
    "Consider the bivariate system:"
   ]
  },
  {
   "cell_type": "code",
   "execution_count": 2,
   "metadata": {},
   "outputs": [],
   "source": [
    "x, y, z = symbols('x y z')\n",
    "F = [x*y - 2*y, x**2 - 2*y**2]"
   ]
  },
  {
   "cell_type": "markdown",
   "metadata": {},
   "source": [
    "With the lexicographic monomial order, we compute the Grobner basis:"
   ]
  },
  {
   "cell_type": "code",
   "execution_count": 3,
   "metadata": {},
   "outputs": [
    {
     "name": "stdout",
     "output_type": "stream",
     "text": [
      "GroebnerBasis([-x**2 + 2*y**2, x*y - 2*y, x**3 - 2*x**2], y, x, domain='ZZ', order='lex')\n"
     ]
    }
   ],
   "source": [
    "G = groebner(F, wrt=y)\n",
    "print(G)"
   ]
  },
  {
   "cell_type": "markdown",
   "metadata": {},
   "source": [
    "The Grobner theory states that for a given monomial order, the last element of the Grobner basis produces a univariate polynomial, which can then be used to solve for the system of that variable. In our case, the last polynomial is in x. We can use the roots function to find the solution for that variable:"
   ]
  },
  {
   "cell_type": "code",
   "execution_count": 4,
   "metadata": {},
   "outputs": [
    {
     "data": {
      "text/plain": [
       "{2: 1, 0: 2}"
      ]
     },
     "execution_count": 4,
     "metadata": {},
     "output_type": "execute_result"
    }
   ],
   "source": [
    "roots(G[-1])"
   ]
  },
  {
   "cell_type": "markdown",
   "metadata": {},
   "source": [
    "The solutions derived may be substituted back into the Grobner basis, which will return a set of polynomials that will have a greatest common divisor amongst the polynomials. In our case, the set of solutions are x1 = 0, x2 = 0, x3 = 2.\n",
    "\n",
    "For x1 = 0 (also for x2 = 0), we get:"
   ]
  },
  {
   "cell_type": "code",
   "execution_count": 5,
   "metadata": {},
   "outputs": [
    {
     "data": {
      "text/plain": [
       "[2*y**2, -2*y, 0]"
      ]
     },
     "execution_count": 5,
     "metadata": {},
     "output_type": "execute_result"
    }
   ],
   "source": [
    "[ g.subs(x, 0) for g in G ]"
   ]
  },
  {
   "cell_type": "code",
   "execution_count": 6,
   "metadata": {},
   "outputs": [
    {
     "data": {
      "text/plain": [
       "GroebnerBasis([y], y, domain='ZZ', order='lex')"
      ]
     },
     "execution_count": 6,
     "metadata": {},
     "output_type": "execute_result"
    }
   ],
   "source": [
    "groebner(_, y)"
   ]
  },
  {
   "cell_type": "markdown",
   "metadata": {},
   "source": [
    "Hence, for our case, we get a degenerate solution of (x, y) = (0, 0). \n",
    "\n",
    "Now for x3 = 2, we get:"
   ]
  },
  {
   "cell_type": "code",
   "execution_count": 7,
   "metadata": {},
   "outputs": [
    {
     "data": {
      "text/plain": [
       "[2*y**2 - 4, 0, 0]"
      ]
     },
     "execution_count": 7,
     "metadata": {},
     "output_type": "execute_result"
    }
   ],
   "source": [
    "[ g.subs(x, 2) for g in G ]"
   ]
  },
  {
   "cell_type": "code",
   "execution_count": 8,
   "metadata": {},
   "outputs": [
    {
     "data": {
      "text/plain": [
       "{-sqrt(2): 1, sqrt(2): 1}"
      ]
     },
     "execution_count": 8,
     "metadata": {},
     "output_type": "execute_result"
    }
   ],
   "source": [
    "roots(_[0])"
   ]
  },
  {
   "cell_type": "markdown",
   "metadata": {},
   "source": [
    "Hence, our set of solutions using the Grobner module gives us these set of solutions: \n",
    "\n",
    "$$(0,0) \\enspace with \\enspace a \\enspace multiplicity \\enspace of \\enspace 2$$\n",
    "$$(2, \\sqrt(2))$$\n",
    "$$(2, -\\sqrt(2))$$"
   ]
  },
  {
   "cell_type": "markdown",
   "metadata": {},
   "source": [
    "As shown, this provides the full set of solutions to describe the system, as opposed to just a unique solution of the system."
   ]
  }
 ],
 "metadata": {
  "kernelspec": {
   "display_name": "Python 3",
   "language": "python",
   "name": "python3"
  },
  "language_info": {
   "codemirror_mode": {
    "name": "ipython",
    "version": 3
   },
   "file_extension": ".py",
   "mimetype": "text/x-python",
   "name": "python",
   "nbconvert_exporter": "python",
   "pygments_lexer": "ipython3",
   "version": "3.6.7"
  }
 },
 "nbformat": 4,
 "nbformat_minor": 2
}
