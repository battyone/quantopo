{
 "cells": [
  {
   "cell_type": "markdown",
   "metadata": {},
   "source": [
    "# Quantum Random Number Generator"
   ]
  },
  {
   "cell_type": "markdown",
   "metadata": {},
   "source": [
    "Inherent to quantum systems is the 'randomness' nature prescribed by quantum mechanics. The generation of genuine randomness is generally considered impossible with only classical means, which differentiates classical Physics from quanutm Physics. Below is a basic coding example of a Quantum Random Number Generator (QRNG):"
   ]
  },
  {
   "cell_type": "code",
   "execution_count": 1,
   "metadata": {
    "collapsed": false
   },
   "outputs": [],
   "source": [
    "from projectq.ops import H, Measure\n",
    "from projectq import MainEngine\n",
    "\n",
    "def qrng():\n",
    "    # create a main compiler engine\n",
    "    eng = MainEngine()\n",
    "\n",
    "    # allocate one qubit\n",
    "    q1 = eng.allocate_qubit()\n",
    "\n",
    "    # put it in superposition\n",
    "    H | q1\n",
    "\n",
    "    # measure\n",
    "    Measure | q1\n",
    "\n",
    "    eng.flush()\n",
    "    # print the result:\n",
    "    print(\"Measured: {}\".format(int(q1)))"
   ]
  },
  {
   "cell_type": "markdown",
   "metadata": {},
   "source": [
    "Let's run the algorithm 10 times and see our output distribution."
   ]
  },
  {
   "cell_type": "code",
   "execution_count": 2,
   "metadata": {
    "collapsed": false
   },
   "outputs": [
    {
     "name": "stdout",
     "output_type": "stream",
     "text": [
      "(Note: This is the (slow) Python simulator.)\n",
      "Measured: 0\n"
     ]
    }
   ],
   "source": [
    "qrng()"
   ]
  },
  {
   "cell_type": "code",
   "execution_count": 3,
   "metadata": {
    "collapsed": false
   },
   "outputs": [
    {
     "name": "stdout",
     "output_type": "stream",
     "text": [
      "(Note: This is the (slow) Python simulator.)\n",
      "Measured: 1\n"
     ]
    }
   ],
   "source": [
    "qrng()"
   ]
  },
  {
   "cell_type": "code",
   "execution_count": 4,
   "metadata": {
    "collapsed": false
   },
   "outputs": [
    {
     "name": "stdout",
     "output_type": "stream",
     "text": [
      "(Note: This is the (slow) Python simulator.)\n",
      "Measured: 1\n"
     ]
    }
   ],
   "source": [
    "qrng()"
   ]
  },
  {
   "cell_type": "code",
   "execution_count": 5,
   "metadata": {
    "collapsed": false
   },
   "outputs": [
    {
     "name": "stdout",
     "output_type": "stream",
     "text": [
      "(Note: This is the (slow) Python simulator.)\n",
      "Measured: 1\n"
     ]
    }
   ],
   "source": [
    "qrng()"
   ]
  },
  {
   "cell_type": "code",
   "execution_count": 6,
   "metadata": {
    "collapsed": false
   },
   "outputs": [
    {
     "name": "stdout",
     "output_type": "stream",
     "text": [
      "(Note: This is the (slow) Python simulator.)\n",
      "Measured: 1\n"
     ]
    }
   ],
   "source": [
    "qrng()"
   ]
  },
  {
   "cell_type": "code",
   "execution_count": 7,
   "metadata": {
    "collapsed": false
   },
   "outputs": [
    {
     "name": "stdout",
     "output_type": "stream",
     "text": [
      "(Note: This is the (slow) Python simulator.)\n",
      "Measured: 0\n"
     ]
    }
   ],
   "source": [
    "qrng()"
   ]
  },
  {
   "cell_type": "code",
   "execution_count": 8,
   "metadata": {
    "collapsed": false
   },
   "outputs": [
    {
     "name": "stdout",
     "output_type": "stream",
     "text": [
      "(Note: This is the (slow) Python simulator.)\n",
      "Measured: 1\n"
     ]
    }
   ],
   "source": [
    "qrng()"
   ]
  },
  {
   "cell_type": "code",
   "execution_count": 9,
   "metadata": {
    "collapsed": false
   },
   "outputs": [
    {
     "name": "stdout",
     "output_type": "stream",
     "text": [
      "(Note: This is the (slow) Python simulator.)\n",
      "Measured: 1\n"
     ]
    }
   ],
   "source": [
    "qrng()"
   ]
  },
  {
   "cell_type": "code",
   "execution_count": 10,
   "metadata": {
    "collapsed": false
   },
   "outputs": [
    {
     "name": "stdout",
     "output_type": "stream",
     "text": [
      "(Note: This is the (slow) Python simulator.)\n",
      "Measured: 1\n"
     ]
    }
   ],
   "source": [
    "qrng()"
   ]
  },
  {
   "cell_type": "code",
   "execution_count": 11,
   "metadata": {
    "collapsed": false
   },
   "outputs": [
    {
     "name": "stdout",
     "output_type": "stream",
     "text": [
      "(Note: This is the (slow) Python simulator.)\n",
      "Measured: 0\n"
     ]
    }
   ],
   "source": [
    "qrng()"
   ]
  },
  {
   "cell_type": "markdown",
   "metadata": {},
   "source": [
    "Note, this is compiled classically. IBM Quantum Experience provides a quantum cloud computing back-end. To run on their system, first login to your account on IBM Quantum Experience and add to the code these imports:"
   ]
  },
  {
   "cell_type": "code",
   "execution_count": 12,
   "metadata": {
    "collapsed": true
   },
   "outputs": [],
   "source": [
    "import projectq.setups.ibm\n",
    "from projectq.backends import IBMBackend"
   ]
  },
  {
   "cell_type": "markdown",
   "metadata": {},
   "source": [
    "And pass IBMBackend into the MainEngine function. Below we'll run the code once more with IBMBackend passed to MainEngine()."
   ]
  },
  {
   "cell_type": "code",
   "execution_count": 13,
   "metadata": {
    "collapsed": false
   },
   "outputs": [
    {
     "name": "stdout",
     "output_type": "stream",
     "text": [
      "IBM QE user (e-mail) > uic126@gmail.com\n",
      "IBM QE password > ········\n",
      "Measured: 1\n"
     ]
    }
   ],
   "source": [
    "# create a main compiler engine\n",
    "eng = MainEngine(IBMBackend())\n",
    "\n",
    "# allocate one qubit\n",
    "q1 = eng.allocate_qubit()\n",
    "\n",
    "# put it in superposition\n",
    "H | q1\n",
    "\n",
    "# measure\n",
    "Measure | q1\n",
    "\n",
    "eng.flush()\n",
    "# print the result:\n",
    "print(\"Measured: {}\".format(int(q1)))"
   ]
  },
  {
   "cell_type": "code",
   "execution_count": null,
   "metadata": {
    "collapsed": true
   },
   "outputs": [],
   "source": []
  }
 ],
 "metadata": {
  "kernelspec": {
   "display_name": "Python 2",
   "language": "python",
   "name": "python2"
  },
  "language_info": {
   "codemirror_mode": {
    "name": "ipython",
    "version": 2
   },
   "file_extension": ".py",
   "mimetype": "text/x-python",
   "name": "python",
   "nbconvert_exporter": "python",
   "pygments_lexer": "ipython2",
   "version": "2.7.13"
  }
 },
 "nbformat": 4,
 "nbformat_minor": 0
}
