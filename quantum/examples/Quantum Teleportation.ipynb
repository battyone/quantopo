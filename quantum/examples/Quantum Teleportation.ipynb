{
 "cells": [
  {
   "cell_type": "markdown",
   "metadata": {},
   "source": [
    "# Quantum Teleportation"
   ]
  },
  {
   "cell_type": "markdown",
   "metadata": {},
   "source": [
    "Alice and Bob are undercover KGBs in the United States. One night, they face danger. The day before, Alice and Bob have created a Bell Pair, \n",
    "\n",
    "$$\n",
    "|A> \\otimes |B> = \\frac{1}{\\sqrt{2}} (|0> \\otimes |0> + |1> \\otimes |1>),\n",
    "$$\n",
    "\n",
    "from qubits of their own, |A> and |B>, respectively. The Bell Pair is created utilizing a quantum circuit where a Hadamard gate is applied to Alice's qubit, followed by a CNOT gate, where Alice's qubit is the control qubit and Bob's qubit is the target. The function below achieves this:  "
   ]
  },
  {
   "cell_type": "code",
   "execution_count": 8,
   "metadata": {
    "collapsed": true
   },
   "outputs": [],
   "source": [
    "import projectq.setups.default\n",
    "from projectq.ops import H, Measure, CNOT, X, Z, Rz\n",
    "from projectq import MainEngine\n",
    "from projectq.backends import CircuitDrawer\n",
    "from projectq.meta import Dagger, Control\n",
    "\n",
    "def create_bell_pair(eng):\n",
    "    a = eng.allocate_qubit()\n",
    "    b = eng.allocate_qubit()\n",
    "\n",
    "    H | a\n",
    "    CNOT | (a, b)\n",
    "\n",
    "    return a, b"
   ]
  },
  {
   "cell_type": "markdown",
   "metadata": {},
   "source": [
    "Below, the circuit for Bell Pair creation is coded and portrayed:"
   ]
  },
  {
   "cell_type": "code",
   "execution_count": 20,
   "metadata": {
    "collapsed": false
   },
   "outputs": [],
   "source": [
    "# create a main compiler engine\n",
    "drawing_engine = CircuitDrawer()\n",
    "eng = MainEngine(drawing_engine)\n",
    "\n",
    "create_bell_pair(eng)\n",
    "\n",
    "eng.flush()"
   ]
  },
  {
   "cell_type": "markdown",
   "metadata": {},
   "source": [
    "![alt text](bellpair.jpg \"Bell Pair circuit\")"
   ]
  },
  {
   "cell_type": "markdown",
   "metadata": {},
   "source": [
    "Alice and Bob hold tight onto her and his half of the Bell Pair. On this particular night though, Alice is kidnapped by another foreign entity. Bob can't find her, but he knows if Alice is alive, she will send a signal to him using the Bell Pair and an additional qubit $|\\psi>$, in which it's state can be used to provide her location. What mechanism must now be used for Alice to communicate the qubit $|\\psi>$ to Bob?"
   ]
  },
  {
   "cell_type": "markdown",
   "metadata": {},
   "source": [
    "One mechanism is Quantum Teleportation. To achieve, a sequence of steps must be followed by both Alice and Bob. First, Alice must entangle her half of the Bell Pair with the qubit $|\\psi>$. Following that, she must measure both qubits, her half of the Bell Pair and qubit $|\\psi>$. Then, she must send those measurements to Bob, where Bob will use those measurements to determine what actions he must take to gain information about the state of the qubit $|\\psi>$. In this case, based on the measurements Bob receives, he will have to do 1 of 4 things, through the use of an X gate and/or Z gate. If he receives a measurement of 00, he won't have to do anything to his own half of the Bell Pair. His half already represents the state $|\\psi>$. If he receives a measurement of 01, he will have to apply an X gate to his own half of the Bell Pair. If he receives a measurement of 10, he will have to apply a Z gate to his own half of the Bell Pair. Last, if he receives a measurement of 11, he will have to first apply a X gate, followed by a Z gate. \n",
    "\n",
    "The full implementation and diagram for the circuit is provided below:"
   ]
  },
  {
   "cell_type": "code",
   "execution_count": 19,
   "metadata": {
    "collapsed": false
   },
   "outputs": [
    {
     "name": "stdout",
     "output_type": "stream",
     "text": [
      "(Note: This is the (slow) Python simulator.)\n"
     ]
    }
   ],
   "source": [
    "def run_teleport(eng, state_creation_function, verbose=False):\n",
    "    # make a Bell-pair\n",
    "    b1, b2 = create_bell_pair(eng)\n",
    "\n",
    "    # Alice creates a nice state to send\n",
    "    psi = eng.allocate_qubit()\n",
    "    if verbose:\n",
    "        print(\"Alice is creating her state from scratch, i.e., |0>.\")\n",
    "    state_creation_function(eng, psi)\n",
    "\n",
    "    # entangle it with Alice's b1\n",
    "    CNOT | (psi, b1)\n",
    "    if verbose:\n",
    "        print(\"Alice entangled her qubit with her share of the Bell-pair.\")\n",
    "\n",
    "    # measure two values (once in Hadamard basis) and send the bits to Bob\n",
    "    H | psi\n",
    "    Measure | (psi, b1)\n",
    "    msg_to_bob = [int(psi), int(b1)]\n",
    "    if verbose:\n",
    "        print(\"Alice is sending the message {} to Bob.\".format(msg_to_bob))\n",
    "\n",
    "    # Bob may have to apply up to two operation depending on the message sent\n",
    "    # by Alice:\n",
    "    with Control(eng, b1):\n",
    "        X | b2\n",
    "    with Control(eng, psi):\n",
    "        Z | b2\n",
    "\n",
    "    # try to uncompute the psi state\n",
    "    if verbose:\n",
    "        print(\"Bob is trying to uncompute the state.\")\n",
    "    with Dagger(eng):\n",
    "        state_creation_function(eng, b2)\n",
    "\n",
    "    # check whether the uncompute was successful. The simulator only allows to\n",
    "    # delete qubits which are in a computational basis state.\n",
    "    del b2\n",
    "    eng.flush()\n",
    "\n",
    "    if verbose:\n",
    "        print(\"Bob successfully arrived at |0>\")\n",
    "\n",
    "\n",
    "if __name__ == \"__main__\":\n",
    "    # create a main compiler engine with a simulator backend:\n",
    "    eng = MainEngine()\n",
    "\n",
    "    # define our state-creation routine, which transforms a |0> to the state\n",
    "    # we would like to send. Bob can then try to uncompute it and, if he\n",
    "    # arrives back at |0>, we know that the teleportation worked.\n",
    "    def create_state(eng, qb):\n",
    "        H | qb\n",
    "        Rz(1.21) | qb\n",
    "\n",
    "    # run the teleport and then, let Bob try to uncompute his qubit:\n",
    "    run_teleport(eng, create_state, verbose=False)"
   ]
  },
  {
   "cell_type": "markdown",
   "metadata": {},
   "source": [
    "![alt text](QuantumTeleport.jpg \"Quantum Teleport circuit\")"
   ]
  },
  {
   "cell_type": "code",
   "execution_count": null,
   "metadata": {
    "collapsed": true
   },
   "outputs": [],
   "source": []
  }
 ],
 "metadata": {
  "kernelspec": {
   "display_name": "Python 2",
   "language": "python",
   "name": "python2"
  },
  "language_info": {
   "codemirror_mode": {
    "name": "ipython",
    "version": 2
   },
   "file_extension": ".py",
   "mimetype": "text/x-python",
   "name": "python",
   "nbconvert_exporter": "python",
   "pygments_lexer": "ipython2",
   "version": "2.7.13"
  }
 },
 "nbformat": 4,
 "nbformat_minor": 0
}
