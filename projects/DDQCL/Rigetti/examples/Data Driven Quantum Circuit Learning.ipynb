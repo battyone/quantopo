{
 "cells": [
  {
   "cell_type": "markdown",
   "metadata": {},
   "source": [
    "# Data Driven Quantum Circuit Learning"
   ]
  },
  {
   "cell_type": "markdown",
   "metadata": {},
   "source": [
    "Data Driven Quantum Circuit Learner (DDQCL) is the hybrid quantum-classical approach that is\n",
    "used to assist the characterization of the quantum devices and to train shallow circuits for\n",
    "generative tasks."
   ]
  },
  {
   "cell_type": "markdown",
   "metadata": {},
   "source": [
    "In the case of the generative ML task presented in this notebook, an input dataset is given followed by outputs measurements.\n",
    "\n",
    "A two-step process is performed:\n",
    "\n",
    "1) DDQCL is used to encode BAS22 (see figure below) in the wave function of the\n",
    "quantum state\n",
    "\n",
    "2) The best circuits, i.e. those with lowest cost function, are compared using the qBAS22\n",
    " score (explained later)"
   ]
  },
  {
   "cell_type": "markdown",
   "metadata": {},
   "source": [
    "![alt text](bas_patterns.png \"Bas/Non-Bas Patterns\")"
   ]
  },
  {
   "cell_type": "markdown",
   "metadata": {},
   "source": [
    "### qBAS22 SCORE"
   ]
  },
  {
   "cell_type": "markdown",
   "metadata": {},
   "source": [
    "qBAS22 score for some of the possible choices of entangling layer topology (line, star,\n",
    "all-connected and different entangling gates YY, ZZ, CPHASE) and different number of\n",
    "layers are investigated."
   ]
  },
  {
   "cell_type": "markdown",
   "metadata": {},
   "source": [
    "![alt text](circuit_topologies.png \"Circuit Topologies\")"
   ]
  },
  {
   "cell_type": "markdown",
   "metadata": {},
   "source": [
    "### Procedure (High-level)"
   ]
  },
  {
   "cell_type": "markdown",
   "metadata": {},
   "source": [
    "-Provided with a dataset D, the goal is to obtain a good approximation to the target probability\n",
    "distribution for BAS22.\n",
    "<br>\n",
    "\n",
    "-The quantum circuit model is parametrized with unitary gates angles, gate depths, and gate\n",
    "topology.\n",
    "<br>\n",
    "\n",
    "-Following the approach of generative modeling, we minimize with Kullback-Leibler function,\n",
    "and classically update parameters with Particle Swarm Optimization"
   ]
  },
  {
   "cell_type": "markdown",
   "metadata": {},
   "source": [
    "## KL Divergence (From https://arxiv.org/pdf/1801.07686.pdf)"
   ]
  },
  {
   "cell_type": "markdown",
   "metadata": {},
   "source": [
    "![alt text](kl_divergence.png \"Title\")"
   ]
  },
  {
   "cell_type": "markdown",
   "metadata": {},
   "source": [
    "### Program Procedure"
   ]
  },
  {
   "cell_type": "markdown",
   "metadata": {},
   "source": [
    "#### 1) Import required packages, including pyquil from Rigetti."
   ]
  },
  {
   "cell_type": "code",
   "execution_count": null,
   "metadata": {},
   "outputs": [],
   "source": [
    "from pyquil.quil import Program\n",
    "import pyquil.api as api\n",
    "from pyquil.gates import *\n",
    "import numpy as np\n",
    "import matplotlib.pyplot as plt\n",
    "from random import *\n",
    "import itertools\n",
    "import networkx as nx\n",
    "import pyswarms as ps"
   ]
  },
  {
   "cell_type": "markdown",
   "metadata": {},
   "source": [
    "#### 2) Instantiate an object with the QVM virtual machine and instantiate global variables used in program."
   ]
  },
  {
   "cell_type": "code",
   "execution_count": null,
   "metadata": {},
   "outputs": [],
   "source": [
    "qvm = api.QVMConnection()  # to use the virtual machine\n",
    "PRECISION = 8\n",
    "CLIP = 1e-8\n",
    "\n",
    "global n_qubits, hist_sample"
   ]
  },
  {
   "cell_type": "markdown",
   "metadata": {},
   "source": [
    "#### Extra: Construct and plot BAS22 (as reference)"
   ]
  },
  {
   "cell_type": "code",
   "execution_count": null,
   "metadata": {},
   "outputs": [],
   "source": [
    "def bars_and_stripes(rows, cols):\n",
    "    data = []\n",
    "\n",
    "    for h in itertools.product([0, 1], repeat=cols):\n",
    "        pic = np.repeat([h], rows, 0)\n",
    "        data.append(pic.ravel().tolist())\n",
    "\n",
    "    for h in itertools.product([0, 1], repeat=rows):\n",
    "        pic = np.repeat([h], cols, 1)\n",
    "        data.append(pic.ravel().tolist())\n",
    "\n",
    "    data = np.unique(np.asarray(data), axis=0)\n",
    "\n",
    "    return data"
   ]
  },
  {
   "cell_type": "code",
   "execution_count": null,
   "metadata": {},
   "outputs": [],
   "source": [
    "n, m = 2, 2\n",
    "\n",
    "bas = bars_and_stripes(n, m)\n",
    "\n",
    "n_points, n_qubits = bas.shape\n",
    "\n",
    "fig, ax = plt.subplots(1, bas.shape[0], figsize=(9, 1))\n",
    "for i in range(bas.shape[0]):\n",
    "    ax[i].matshow(bas[i].reshape(n, m), vmin=-1, vmax=1)\n",
    "    ax[i].set_xticks([])\n",
    "    ax[i].set_yticks([])"
   ]
  },
  {
   "cell_type": "markdown",
   "metadata": {},
   "source": [
    "#### Extra: Sample distribution of BAS22"
   ]
  },
  {
   "cell_type": "code",
   "execution_count": null,
   "metadata": {},
   "outputs": [],
   "source": [
    "'''sample distribution'''\n",
    "hist_sample = [0 for _ in range(2 ** n_qubits)]\n",
    "for s in bas:\n",
    "    b = ''.join(str(int(e)) for e in s)\n",
    "    idx = int(b, 2)\n",
    "    hist_sample[idx] += 1. / float(n_points)"
   ]
  },
  {
   "cell_type": "markdown",
   "metadata": {},
   "source": [
    "#### 3) Define the different circuits topologies"
   ]
  },
  {
   "cell_type": "code",
   "execution_count": null,
   "metadata": {},
   "outputs": [],
   "source": [
    "edges_all_connected = []\n",
    "edges_star = []\n",
    "edges_line = []\n",
    "\n",
    "''' line topology'''\n",
    "for i in range(n_qubits - 1):\n",
    "    connections = [i, i + 1]\n",
    "    edges_line.append(connections)\n",
    "\n",
    "'''star topology'''\n",
    "for i in range(1, n_qubits):\n",
    "    connections = [0, i]\n",
    "    edges_star.append(connections)\n",
    "\n",
    "'''all connected topology'''\n",
    "for i in range(n_qubits - 1):\n",
    "    for j in range(i + 1, n_qubits):\n",
    "        connections = [i, j]\n",
    "        edges_all_connected.append(connections)"
   ]
  },
  {
   "cell_type": "code",
   "execution_count": null,
   "metadata": {},
   "outputs": [],
   "source": [
    "'''lets define a little function for the connections'''\n",
    "def top(x):\n",
    "    if x == 0:\n",
    "        edges = edges_line\n",
    "    if x == 1:\n",
    "        edges = edges_star\n",
    "    if x == 2:\n",
    "        edges = edges_all_connected\n",
    "    return edges"
   ]
  },
  {
   "cell_type": "markdown",
   "metadata": {},
   "source": [
    "#### Extra: Plot the various circuit topologies"
   ]
  },
  {
   "cell_type": "code",
   "execution_count": null,
   "metadata": {},
   "outputs": [],
   "source": [
    "'''lets plot the different configuratios'''\n",
    "options = {\n",
    "    'node_color': 'orange',\n",
    "    'node_size': 300,\n",
    "    'width': 1}\n",
    "\n",
    "fig = plt.figure(figsize=(9, 4))\n",
    "\n",
    "graph_line = nx.Graph(top(0))\n",
    "ax1 = fig.add_subplot(131)\n",
    "ax1.set_title('line')\n",
    "nx.draw_shell(graph_line, with_labels=True, **options)\n",
    "\n",
    "graph_star = nx.Graph(top(1))\n",
    "ax2 = fig.add_subplot(132)\n",
    "ax2.set_title('star')\n",
    "nx.draw_shell(graph_star, with_labels=True, **options)\n",
    "\n",
    "graph_all_connected = nx.Graph(top(2))\n",
    "ax3 = fig.add_subplot(133)\n",
    "ax3.set_title('all connected')\n",
    "nx.draw_shell(graph_all_connected, with_labels=True, **options)"
   ]
  },
  {
   "cell_type": "markdown",
   "metadata": {},
   "source": [
    "#### 4) Define the circuit parameters"
   ]
  },
  {
   "cell_type": "code",
   "execution_count": null,
   "metadata": {},
   "outputs": [],
   "source": [
    "global n_top, single_g, entangling_g, n_layers, dimension\n",
    "global min_bounds, max_bounds, n_rotations"
   ]
  },
  {
   "cell_type": "code",
   "execution_count": null,
   "metadata": {},
   "outputs": [],
   "source": [
    "'''define the topology'''\n",
    "n_top = 2        # options: 0 - line, 1 - star,  2 - all connected\n",
    "\n",
    "'''define single and entangling gates'''\n",
    "init_single_g =  ['RY','RZ']\n",
    "single_g      =  ['RY','RZ','RY']\n",
    "entangling_g  =  ['YY']       # options YY, ZZ, CPHASE -- the entangling gate can be modify in the circuit\n",
    "\n",
    "'''define the number of layers'''\n",
    "n_layers = 4\n",
    "\n",
    "'''angles'''\n",
    "first_layer   = len(init_single_g)\n",
    "n_rotations   = len(single_g)\n",
    "even_n_layers = int(np.floor(n_layers/2))\n",
    "odd_n_layers  = n_layers - even_n_layers\n",
    "dimension     = (n_rotations*(odd_n_layers-1) + first_layer)*n_qubits + len(top(n_top))*even_n_layers"
   ]
  },
  {
   "cell_type": "markdown",
   "metadata": {},
   "source": [
    "#### 5) Define the circuit"
   ]
  },
  {
   "cell_type": "code",
   "execution_count": null,
   "metadata": {},
   "outputs": [],
   "source": [
    "def circuit(angles):\n",
    "    C = Program()\n",
    "    for i in range(n_qubits):\n",
    "        C.inst(I(\n",
    "            i))  # here we are considering |00000000> as the input state. Options: Changing I to H applies Hadamards to all qubits and create a full superposition\n",
    "\n",
    "    i = 0\n",
    "    for qb in range(n_qubits):\n",
    "        for op in init_single_g:\n",
    "            x = angles[i] * np.pi  # rotating angles are written in units of pi\n",
    "            gate = (op + \"(\" + str(x) + \")\", qb)\n",
    "            C.inst(gate)\n",
    "            i += 1  # now it will call the next element in angles\n",
    "\n",
    "    for ly in range(2, n_layers + 1):\n",
    "        if ly % 2 == 1:  # single gates are only in odd layers\n",
    "            for qb in range(n_qubits):\n",
    "                for op in single_g:\n",
    "                    x = angles[i] * np.pi  # rotating angles are written in units of pi\n",
    "                    gate = (op + \"(\" + str(x) + \")\", qb)\n",
    "                    C.inst(gate)\n",
    "\n",
    "                    i += 1  # now it will call the next element in angles\n",
    "\n",
    "        else:\n",
    "            for qb_qb in top(n_top):\n",
    "                if entangling_g[0] == 'YY':\n",
    "\n",
    "                    x = angles[i] * np.pi / 2.0  # entangling angles are written in units of 2*pi\n",
    "                    idx1 = qb_qb[0]\n",
    "                    idx2 = qb_qb[1]\n",
    "\n",
    "                    C.inst(CNOT(idx1, idx2))\n",
    "                    C.inst(RY(2.0 * x, idx2))\n",
    "                    C.inst(CNOT(idx1, idx2))\n",
    "\n",
    "                    i += 1\n",
    "\n",
    "                elif entangling_g[0] == 'ZZ':  # ZZ(theta,1,2) = CNOT(1,2) RZ(2 theta,2) CNOT(1,2), - pi < 2 theta < pi\n",
    "\n",
    "                    x = angles[i] * np.pi / 2.0  # theta = x*pi/2, then -1 < x < 1\n",
    "                    idx1 = qb_qb[0]\n",
    "                    idx2 = qb_qb[1]\n",
    "\n",
    "                    C.inst(CNOT(idx1, idx2))\n",
    "                    C.inst(RZ(2.0 * x, idx2))\n",
    "                    C.inst(CNOT(idx1, idx2))\n",
    "\n",
    "                    i += 1\n",
    "\n",
    "                    ## we can define more entangling gates!\n",
    "                else:\n",
    "\n",
    "                    x = angles[i] * np.pi / 2.0\n",
    "                    idx1 = qb_qb[0]\n",
    "                    idx2 = qb_qb[1]\n",
    "                    gate = (entangling_g[0] + \"(\" + str(x) + \")\", idx1, idx2)\n",
    "                    C.inst(gate)\n",
    "\n",
    "                    i += 1\n",
    "\n",
    "    qvm = api.QVMConnection()\n",
    "    wf = qvm.wavefunction(C)  # get the output circuit wavefunction\n",
    "    probs_dist = wf.get_outcome_probs()  # get the probability distribution --- be careful it is a dict\n",
    "    probs = list(range(2 ** n_qubits))\n",
    "\n",
    "    '''here we extract the distribution values from the dict'''\n",
    "    for i in range(2 ** n_qubits):\n",
    "        aa = str(np.binary_repr(i, n_qubits))[::-1]\n",
    "        probs[i] = probs_dist[aa]\n",
    "\n",
    "    assert (round(sum(probs), PRECISION) == 1.)  # just to make sure\n",
    "\n",
    "    return (probs, C)"
   ]
  },
  {
   "cell_type": "markdown",
   "metadata": {},
   "source": [
    "#### 6) Define the Kleiber-Leibler function for minimization"
   ]
  },
  {
   "cell_type": "code",
   "execution_count": null,
   "metadata": {},
   "outputs": [],
   "source": [
    "#KLEIBER-LEIBLER FUNCTION\n",
    "\n",
    "def KL(angles):\n",
    "    probs, C = circuit(angles)\n",
    "\n",
    "    l = 0.0\n",
    "    for idx in range(2 ** n_qubits):\n",
    "        l += -hist_sample[idx] * np.log(np.clip(probs[idx], CLIP, 1.)) \\\n",
    "             + hist_sample[idx] * np.log(np.clip(hist_sample[idx], CLIP, 1.))\n",
    "\n",
    "    return l"
   ]
  },
  {
   "cell_type": "markdown",
   "metadata": {},
   "source": [
    "#### 7) Define the Particle Swarm Optimization function for parameter updates"
   ]
  },
  {
   "cell_type": "code",
   "execution_count": null,
   "metadata": {},
   "outputs": [],
   "source": [
    "def f(x):\n",
    "    \"\"\"Higher-level method to do forward_prop in the\n",
    "    whole swarm.\n",
    "\n",
    "    Inputs\n",
    "    ------\n",
    "    x: numpy.ndarray of shape (n_particles, dimensions)\n",
    "        The swarm that will perform the search\n",
    "\n",
    "    Returns\n",
    "    -------\n",
    "    numpy.ndarray of shape (n_particles, )\n",
    "        The computed loss for each particle\n",
    "    \"\"\"\n",
    "    n_particles = x.shape[0]\n",
    "    j = [KL(x[i]) for i in range(n_particles)]\n",
    "    return np.array(j)\n",
    "\n",
    "#PARTICLE SWARM OPTIMIZER\n",
    "\n",
    "# Initialize swarm\n",
    "options = {'c1': 0.5, 'c2': 0.3, 'w': 0.9}\n",
    "\n",
    "# Call instance of PSO\n",
    "dimensions = 4 ** n_layers\n",
    "optimizer = ps.single.GlobalBestPSO(n_particles=100, dimensions=dimensions, options=options)"
   ]
  },
  {
   "cell_type": "markdown",
   "metadata": {},
   "source": [
    "#### 8) Instantiate the optimization"
   ]
  },
  {
   "cell_type": "code",
   "execution_count": null,
   "metadata": {},
   "outputs": [],
   "source": [
    "cost, pos = optimizer.optimize(f, print_step=1, iters=10, verbose=3)"
   ]
  },
  {
   "cell_type": "markdown",
   "metadata": {},
   "source": [
    "#### 9) Run the circuit"
   ]
  },
  {
   "cell_type": "code",
   "execution_count": null,
   "metadata": {},
   "outputs": [],
   "source": [
    "result, P = circuit(pos)"
   ]
  },
  {
   "cell_type": "markdown",
   "metadata": {},
   "source": [
    "#### 10) Print comparison of circuit distribution versus target distribution"
   ]
  },
  {
   "cell_type": "code",
   "execution_count": null,
   "metadata": {},
   "outputs": [],
   "source": [
    "print(list(zip(hist_sample, result)))"
   ]
  },
  {
   "cell_type": "markdown",
   "metadata": {},
   "source": [
    "#### 11) Measure compilers performance"
   ]
  },
  {
   "cell_type": "code",
   "execution_count": null,
   "metadata": {},
   "outputs": [],
   "source": [
    "from pyquil.api import CompilerConnection, get_devices\n",
    "\n",
    "devices = get_devices(as_dict=True)\n",
    "agave = devices['8Q-Agave']\n",
    "compiler = CompilerConnection(agave)\n",
    "\n",
    "job_id = compiler.compile_async(P)\n",
    "job = compiler.wait_for_job(job_id)\n",
    "\n",
    "print('compiled quil', job.compiled_quil())\n",
    "print('gate volume', job.gate_volume())\n",
    "print('gate depth', job.gate_depth())\n",
    "print('topological swaps', job.topological_swaps())\n",
    "print('program fidelity', job.program_fidelity())\n",
    "print('multiqubit gate depth', job.multiqubit_gate_depth())"
   ]
  },
  {
   "cell_type": "markdown",
   "metadata": {},
   "source": [
    "#### 12) Measure qBAS22 score"
   ]
  },
  {
   "cell_type": "code",
   "execution_count": null,
   "metadata": {},
   "outputs": [],
   "source": [
    "cost, P = circuit(pos)\n",
    "meas = P.measure(0, 0).measure(1, 1).measure(2, 2).measure(3, 3)\n",
    "\n",
    "sampling = qvm.run(meas, [0, 1, 2, 3], 500)\n",
    "target = [[0,0,0,0],[1,1,0,0],[0,0,1,1],[1,0,1,0],[0,1,0,1],[1,1,1,1]] #valid BAS22 targets\n",
    "nbas=[]\n",
    "for x in range(500):\n",
    "    test_target = [(sampling[x] == el) for el in target]  # => [[True, False, True, False],[False, False, True, False], ...]\n",
    "    if any(test_target):\n",
    "        #test_target.index(True)\n",
    "        nbas.append(test_target.index(True)) # => [2,3,1,4,3,2,3,1]\n",
    "        #list(set(test_target))\n",
    "\n",
    "bas22measures = len(nbas)\n",
    "totalmeasures = 500\n",
    "precision = bas22measures/totalmeasures\n",
    "\n",
    "numberofdiffbas22 = len(list(set(nbas)))\n",
    "numberofbas22 = len(target)\n",
    "recall = numberofdiffbas22/numberofbas22\n",
    "\n",
    "f1 = (2*precision*recall)/(precision+recall)\n",
    "\n",
    "print(\"Precision: {}\".format(precision))\n",
    "print(\"Recall: {}\".format(recall))\n",
    "print(\"qBAS F1: {}\".format(f1))"
   ]
  }
 ],
 "metadata": {
  "kernelspec": {
   "display_name": "Python 3",
   "language": "python",
   "name": "python3"
  },
  "language_info": {
   "codemirror_mode": {
    "name": "ipython",
    "version": 3
   },
   "file_extension": ".py",
   "mimetype": "text/x-python",
   "name": "python",
   "nbconvert_exporter": "python",
   "pygments_lexer": "ipython3",
   "version": "3.6.7"
  }
 },
 "nbformat": 4,
 "nbformat_minor": 2
}
